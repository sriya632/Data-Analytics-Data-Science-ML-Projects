{
 "cells": [
  {
   "cell_type": "code",
   "execution_count": 10,
   "metadata": {},
   "outputs": [],
   "source": [
    "import pandas as pd"
   ]
  },
  {
   "cell_type": "code",
   "execution_count": 11,
   "metadata": {},
   "outputs": [],
   "source": [
    "df = pd.read_csv(\"/Users/sriyachoudary/Desktop/DSA_Practice/Data-Analytics-Data-Science-ML-Projects/data/bestsellers.csv\")"
   ]
  },
  {
   "cell_type": "code",
   "execution_count": 12,
   "metadata": {},
   "outputs": [
    {
     "data": {
      "text/html": [
       "<div>\n",
       "<style scoped>\n",
       "    .dataframe tbody tr th:only-of-type {\n",
       "        vertical-align: middle;\n",
       "    }\n",
       "\n",
       "    .dataframe tbody tr th {\n",
       "        vertical-align: top;\n",
       "    }\n",
       "\n",
       "    .dataframe thead th {\n",
       "        text-align: right;\n",
       "    }\n",
       "</style>\n",
       "<table border=\"1\" class=\"dataframe\">\n",
       "  <thead>\n",
       "    <tr style=\"text-align: right;\">\n",
       "      <th></th>\n",
       "      <th>Name</th>\n",
       "      <th>Author</th>\n",
       "      <th>User Rating</th>\n",
       "      <th>Reviews</th>\n",
       "      <th>Price</th>\n",
       "      <th>Year</th>\n",
       "      <th>Genre</th>\n",
       "    </tr>\n",
       "  </thead>\n",
       "  <tbody>\n",
       "    <tr>\n",
       "      <th>0</th>\n",
       "      <td>10-Day Green Smoothie Cleanse</td>\n",
       "      <td>JJ Smith</td>\n",
       "      <td>4.7</td>\n",
       "      <td>17350</td>\n",
       "      <td>8</td>\n",
       "      <td>2016</td>\n",
       "      <td>Non Fiction</td>\n",
       "    </tr>\n",
       "    <tr>\n",
       "      <th>1</th>\n",
       "      <td>11/22/63: A Novel</td>\n",
       "      <td>Stephen King</td>\n",
       "      <td>4.6</td>\n",
       "      <td>2052</td>\n",
       "      <td>22</td>\n",
       "      <td>2011</td>\n",
       "      <td>Fiction</td>\n",
       "    </tr>\n",
       "    <tr>\n",
       "      <th>2</th>\n",
       "      <td>12 Rules for Life: An Antidote to Chaos</td>\n",
       "      <td>Jordan B. Peterson</td>\n",
       "      <td>4.7</td>\n",
       "      <td>18979</td>\n",
       "      <td>15</td>\n",
       "      <td>2018</td>\n",
       "      <td>Non Fiction</td>\n",
       "    </tr>\n",
       "    <tr>\n",
       "      <th>3</th>\n",
       "      <td>1984 (Signet Classics)</td>\n",
       "      <td>George Orwell</td>\n",
       "      <td>4.7</td>\n",
       "      <td>21424</td>\n",
       "      <td>6</td>\n",
       "      <td>2017</td>\n",
       "      <td>Fiction</td>\n",
       "    </tr>\n",
       "    <tr>\n",
       "      <th>4</th>\n",
       "      <td>5,000 Awesome Facts (About Everything!) (Natio...</td>\n",
       "      <td>National Geographic Kids</td>\n",
       "      <td>4.8</td>\n",
       "      <td>7665</td>\n",
       "      <td>12</td>\n",
       "      <td>2019</td>\n",
       "      <td>Non Fiction</td>\n",
       "    </tr>\n",
       "  </tbody>\n",
       "</table>\n",
       "</div>"
      ],
      "text/plain": [
       "                                                Name  \\\n",
       "0                      10-Day Green Smoothie Cleanse   \n",
       "1                                  11/22/63: A Novel   \n",
       "2            12 Rules for Life: An Antidote to Chaos   \n",
       "3                             1984 (Signet Classics)   \n",
       "4  5,000 Awesome Facts (About Everything!) (Natio...   \n",
       "\n",
       "                     Author  User Rating  Reviews  Price  Year        Genre  \n",
       "0                  JJ Smith          4.7    17350      8  2016  Non Fiction  \n",
       "1              Stephen King          4.6     2052     22  2011      Fiction  \n",
       "2        Jordan B. Peterson          4.7    18979     15  2018  Non Fiction  \n",
       "3             George Orwell          4.7    21424      6  2017      Fiction  \n",
       "4  National Geographic Kids          4.8     7665     12  2019  Non Fiction  "
      ]
     },
     "execution_count": 12,
     "metadata": {},
     "output_type": "execute_result"
    }
   ],
   "source": [
    "df.head()\n"
   ]
  },
  {
   "cell_type": "code",
   "execution_count": 13,
   "metadata": {},
   "outputs": [
    {
     "name": "stdout",
     "output_type": "stream",
     "text": [
      "<class 'pandas.core.frame.DataFrame'>\n",
      "RangeIndex: 550 entries, 0 to 549\n",
      "Data columns (total 7 columns):\n",
      " #   Column       Non-Null Count  Dtype  \n",
      "---  ------       --------------  -----  \n",
      " 0   Name         550 non-null    object \n",
      " 1   Author       550 non-null    object \n",
      " 2   User Rating  550 non-null    float64\n",
      " 3   Reviews      550 non-null    int64  \n",
      " 4   Price        550 non-null    int64  \n",
      " 5   Year         550 non-null    int64  \n",
      " 6   Genre        550 non-null    object \n",
      "dtypes: float64(1), int64(3), object(3)\n",
      "memory usage: 30.2+ KB\n"
     ]
    }
   ],
   "source": [
    "df.info()"
   ]
  },
  {
   "cell_type": "markdown",
   "metadata": {},
   "source": [
    "Lowest user rating in the data:"
   ]
  },
  {
   "cell_type": "code",
   "execution_count": 19,
   "metadata": {},
   "outputs": [
    {
     "data": {
      "text/plain": [
       "np.float64(3.3)"
      ]
     },
     "execution_count": 19,
     "metadata": {},
     "output_type": "execute_result"
    }
   ],
   "source": [
    "df['User Rating'].min()"
   ]
  },
  {
   "cell_type": "markdown",
   "metadata": {},
   "source": [
    "Highest price in the data:"
   ]
  },
  {
   "cell_type": "code",
   "execution_count": 20,
   "metadata": {},
   "outputs": [
    {
     "data": {
      "text/plain": [
       "np.int64(105)"
      ]
     },
     "execution_count": 20,
     "metadata": {},
     "output_type": "execute_result"
    }
   ],
   "source": [
    "df['Price'].max()"
   ]
  },
  {
   "cell_type": "markdown",
   "metadata": {},
   "source": [
    "Average User Rating :"
   ]
  },
  {
   "cell_type": "code",
   "execution_count": 21,
   "metadata": {},
   "outputs": [
    {
     "data": {
      "text/plain": [
       "np.float64(4.618363636363637)"
      ]
     },
     "execution_count": 21,
     "metadata": {},
     "output_type": "execute_result"
    }
   ],
   "source": [
    "df['User Rating'].mean()"
   ]
  },
  {
   "cell_type": "markdown",
   "metadata": {},
   "source": [
    "Average user rating for first 5 rows:\n",
    "\n"
   ]
  },
  {
   "cell_type": "code",
   "execution_count": 25,
   "metadata": {},
   "outputs": [
    {
     "data": {
      "text/plain": [
       "np.float64(4.7)"
      ]
     },
     "execution_count": 25,
     "metadata": {},
     "output_type": "execute_result"
    }
   ],
   "source": [
    "df_5=df.head()\n",
    "df_5['User Rating'].mean()"
   ]
  },
  {
   "cell_type": "markdown",
   "metadata": {},
   "source": [
    "What user review score appeared the most?"
   ]
  },
  {
   "cell_type": "code",
   "execution_count": 29,
   "metadata": {},
   "outputs": [
    {
     "data": {
      "text/plain": [
       "np.int64(8580)"
      ]
     },
     "execution_count": 29,
     "metadata": {},
     "output_type": "execute_result"
    }
   ],
   "source": [
    "df['Reviews'].mode()[0]"
   ]
  },
  {
   "cell_type": "markdown",
   "metadata": {},
   "source": [
    "What is the total of all values in reviews column ?\n"
   ]
  },
  {
   "cell_type": "code",
   "execution_count": 30,
   "metadata": {},
   "outputs": [
    {
     "data": {
      "text/plain": [
       "np.int64(6574305)"
      ]
     },
     "execution_count": 30,
     "metadata": {},
     "output_type": "execute_result"
    }
   ],
   "source": [
    "df['Reviews'].sum()"
   ]
  },
  {
   "cell_type": "markdown",
   "metadata": {},
   "source": [
    "How many authors are present in the dataset ?"
   ]
  },
  {
   "cell_type": "code",
   "execution_count": 31,
   "metadata": {},
   "outputs": [
    {
     "data": {
      "text/plain": [
       "np.int64(550)"
      ]
     },
     "execution_count": 31,
     "metadata": {},
     "output_type": "execute_result"
    }
   ],
   "source": [
    "df['Author'].count()"
   ]
  },
  {
   "cell_type": "markdown",
   "metadata": {},
   "source": [
    "Which author wrote the maximum number of books? how many ?"
   ]
  },
  {
   "cell_type": "code",
   "execution_count": 36,
   "metadata": {},
   "outputs": [
    {
     "data": {
      "text/plain": [
       "'Jeff Kinney'"
      ]
     },
     "execution_count": 36,
     "metadata": {},
     "output_type": "execute_result"
    }
   ],
   "source": [
    "df['Author'].value_counts().index[0]\n",
    "\n"
   ]
  },
  {
   "cell_type": "code",
   "execution_count": 37,
   "metadata": {},
   "outputs": [
    {
     "data": {
      "text/plain": [
       "np.int64(12)"
      ]
     },
     "execution_count": 37,
     "metadata": {},
     "output_type": "execute_result"
    }
   ],
   "source": [
    "df['Author'].value_counts().iloc[0]"
   ]
  },
  {
   "cell_type": "markdown",
   "metadata": {},
   "source": [
    "Retrieve a series that contains book names\n"
   ]
  },
  {
   "cell_type": "code",
   "execution_count": 44,
   "metadata": {},
   "outputs": [
    {
     "data": {
      "text/plain": [
       "0                          10-Day Green Smoothie Cleanse\n",
       "1                                      11/22/63: A Novel\n",
       "2                12 Rules for Life: An Antidote to Chaos\n",
       "3                                 1984 (Signet Classics)\n",
       "4      5,000 Awesome Facts (About Everything!) (Natio...\n",
       "                             ...                        \n",
       "545         Wrecking Ball (Diary of a Wimpy Kid Book 14)\n",
       "546    You Are a Badass: How to Stop Doubting Your Gr...\n",
       "547    You Are a Badass: How to Stop Doubting Your Gr...\n",
       "548    You Are a Badass: How to Stop Doubting Your Gr...\n",
       "549    You Are a Badass: How to Stop Doubting Your Gr...\n",
       "Name: Name, Length: 550, dtype: object"
      ]
     },
     "execution_count": 44,
     "metadata": {},
     "output_type": "execute_result"
    }
   ],
   "source": [
    "pd.Series(df[\"Name\"])"
   ]
  },
  {
   "cell_type": "markdown",
   "metadata": {},
   "source": [
    "Retrieve a series that contains User ratings"
   ]
  },
  {
   "cell_type": "code",
   "execution_count": 43,
   "metadata": {},
   "outputs": [
    {
     "data": {
      "text/plain": [
       "0      4.7\n",
       "1      4.6\n",
       "2      4.7\n",
       "3      4.7\n",
       "4      4.8\n",
       "      ... \n",
       "545    4.9\n",
       "546    4.7\n",
       "547    4.7\n",
       "548    4.7\n",
       "549    4.7\n",
       "Name: User Rating, Length: 550, dtype: float64"
      ]
     },
     "execution_count": 43,
     "metadata": {},
     "output_type": "execute_result"
    }
   ],
   "source": [
    "pd.Series(df[\"User Rating\"])"
   ]
  },
  {
   "cell_type": "markdown",
   "metadata": {},
   "source": [
    "Retrieve first 8 authors"
   ]
  },
  {
   "cell_type": "code",
   "execution_count": 42,
   "metadata": {},
   "outputs": [
    {
     "data": {
      "text/plain": [
       "0                    JJ Smith\n",
       "1                Stephen King\n",
       "2          Jordan B. Peterson\n",
       "3               George Orwell\n",
       "4    National Geographic Kids\n",
       "5         George R. R. Martin\n",
       "6         George R. R. Martin\n",
       "7                 Amor Towles\n",
       "Name: Author, dtype: object"
      ]
     },
     "execution_count": 42,
     "metadata": {},
     "output_type": "execute_result"
    }
   ],
   "source": [
    "pd.Series(df[\"Author\"]).head(8)\n"
   ]
  },
  {
   "cell_type": "markdown",
   "metadata": {},
   "source": [
    "Find the unique Genres "
   ]
  },
  {
   "cell_type": "code",
   "execution_count": 45,
   "metadata": {},
   "outputs": [
    {
     "data": {
      "text/plain": [
       "array(['Non Fiction', 'Fiction'], dtype=object)"
      ]
     },
     "execution_count": 45,
     "metadata": {},
     "output_type": "execute_result"
    }
   ],
   "source": [
    "pd.Series(df['Genre']).unique()"
   ]
  },
  {
   "cell_type": "markdown",
   "metadata": {},
   "source": [
    "Find the number of unique authors"
   ]
  },
  {
   "cell_type": "code",
   "execution_count": 46,
   "metadata": {},
   "outputs": [
    {
     "data": {
      "text/plain": [
       "array(['JJ Smith', 'Stephen King', 'Jordan B. Peterson', 'George Orwell',\n",
       "       'National Geographic Kids', 'George R. R. Martin', 'Amor Towles',\n",
       "       'James Comey', 'Fredrik Backman', 'Larry Schweikart',\n",
       "       'Jaycee Dugard', \"Madeleine L'Engle\", 'Steve Harvey',\n",
       "       'Adult Coloring Book Designs', 'Blue Star Coloring',\n",
       "       'Coloring Books for Adults', 'Ron Chernow', 'Anthony Doerr',\n",
       "       'Veronica Roth', 'Chris Kyle', 'Khaled Hosseini', 'Glenn Beck',\n",
       "       'Neil deGrasse Tyson', 'Mark Twain', 'DK', 'Angie Grace',\n",
       "       'Ina Garten', 'Michelle Obama', 'Atul Gawande', 'Ta-Nehisi Coates',\n",
       "       'Bruce Springsteen', 'Stephenie Meyer', 'Bill Martin Jr.',\n",
       "       'Jeff Kinney', \"Sasha O'Hara\", 'David Goggins', 'Thomas Piketty',\n",
       "       'Suzanne Collins', 'Chrissy Teigen', 'Francis Chan', 'Kevin Kwan',\n",
       "       'Marjorie Sarnat', 'Abraham Verghese', 'Brené Brown',\n",
       "       'Malcolm Gladwell', 'Charlaine Harris', 'Rod Campbell',\n",
       "       'George W. Bush', 'Tony Hsieh', 'American Psychiatric Association',\n",
       "       'M Prefontaine', 'Zhi Gang Sha', 'Dav Pilkey', 'Marty Noble',\n",
       "       'Daniel H. Pink', 'David Zinczenko', 'Joel Fuhrman MD',\n",
       "       'Tara Westover', 'Johanna Basford', 'Ray Bradbury', 'J.K. Rowling',\n",
       "       'Bob Woodward', 'E L James', 'Michael Wolff', 'Roger Priddy',\n",
       "       'Michael Pollan', 'RH Disney', 'John Heilemann',\n",
       "       'George R.R. Martin', 'Peter A. Lillback', 'Brian Kilmeade',\n",
       "       'Giles Andreae', 'Rachel Hollis', 'Harper Lee', 'Adam Mansbach',\n",
       "       'Sarah Palin', 'Gillian Flynn', 'Pretty Simple Press',\n",
       "       'Jim Collins', 'Margaret Wise Brown', 'Sherri Duskey Rinker',\n",
       "       'David Perlmutter MD', 'Raina Telgemeier', 'Lin-Manuel Miranda',\n",
       "       'Phil Robertson', 'J. K. Rowling', 'Scholastic', 'Mitch Albom',\n",
       "       'Todd Burpo', 'J. D. Vance', 'Joanna Gaines', 'Dale Carnegie',\n",
       "       'Howard Stern', 'Brandon Stanton', 'Allie Brosh',\n",
       "       'Hopscotch Girls', 'James Patterson', 'Ann Whitford Paul',\n",
       "       'Gayle Forman', 'Eric Larson', 'Dan Brown', 'Christopher Paolini',\n",
       "       'Jennifer Smith', 'Lysa TerKeurst', 'Sarah Young', 'David Grann',\n",
       "       \"Bill O'Reilly\", 'Anthony Bourdain', 'Rob Elliott', 'Jill Twiss',\n",
       "       'Sheryl Sandberg', 'Walter Isaacson', 'Paper Peony Press',\n",
       "       'Mark R. Levin', 'Keith Richards', 'Chris Cleave',\n",
       "       'Alice Schertle', 'Celeste Ng', 'John Green', 'Rob Bell',\n",
       "       'Robert Munsch', 'Admiral William H. McRaven', 'Julia Child',\n",
       "       'Rupi Kaur', 'Adam Gasiewski', 'Carol S. Dweck', 'Crispin Boyer',\n",
       "       'Amy Shields', 'Elie Wiesel', 'Mark Owen', 'Pete Souza',\n",
       "       'Dr. Seuss', 'Elizabeth Strout', 'Ann Voskamp',\n",
       "       'Christina Baker Kline', 'Naomi Kleinberg', 'Rick Riordan',\n",
       "       'Wizards RPG Team', 'Eben Alexander',\n",
       "       'American Psychological Association', 'Golden Books', 'Susan Cain',\n",
       "       'David Platt', 'Ernest Cline', 'Rush Limbaugh', 'Samin Nosrat',\n",
       "       'Tatiana de Rosnay', 'School Zone', 'Justin Halpern',\n",
       "       'Tucker Carlson', 'Ian K. Smith M.D.', 'Nathan W. Pyle', 'Gallup',\n",
       "       'Steven D. Levitt', 'Chip Heath', 'John Grisham', 'Doug Lemov',\n",
       "       'Mike Moreno', 'Timothy Ferriss', 'Gary Chapman',\n",
       "       'W. Cleon Skousen', 'Stephen R. Covey', 'Paulo Coelho',\n",
       "       'Edward Klein', 'Garth Stein', 'Michael Lewis', 'Mark Hyman M.D.',\n",
       "       'Bessel van der Kolk M.D.', 'Bill Simmons', 'Markus Zusak',\n",
       "       'B. J. Novak', 'Daniel James Brown', 'Thomas Campbell',\n",
       "       'Amy Ramos', 'Delegates of the Constitutional\\x85', 'Jon Stewart',\n",
       "       'Drew Daywalt', 'Pierre Dukan', 'Muriel Barbery',\n",
       "       'Patrick Lencioni', 'Don Miguel Ruiz', 'Paula Hawkins',\n",
       "       'Stieg Larsson', 'Sandra Boynton', 'Donna Tartt',\n",
       "       'F. Scott Fitzgerald', 'Mary Ann Shaffer', 'Margaret Atwood',\n",
       "       'Jonathan Cahn', 'Angie Thomas', 'Kathryn Stockett',\n",
       "       'Rebecca Skloot', 'Laurel Randolph', 'Randy Pausch',\n",
       "       'Patrick Thorpe', 'Daniel Lipkowitz', 'Marie Kondō',\n",
       "       'Stephen Kendrick', 'Chip Gaines', 'Andy Weir', 'James Dashner',\n",
       "       'The Washington Post', 'Kristin Hannah', 'The College Board',\n",
       "       'Paula McLain', 'Ree Drummond', 'Dr. Steven R Gundry MD',\n",
       "       'Deborah Diesen', 'Charles Duhigg', 'F. A. Hayek',\n",
       "       'William P. Young', 'Alex Michaelides', 'Mark Manson',\n",
       "       'Audrey Niffenegger', 'Dave Ramsey', 'Dinah Bucholz', 'Eric Carle',\n",
       "       'Melissa Hartwig Urban', 'Emily Winfield Martin', 'Craig Smith',\n",
       "       'David McCullough', 'Charles Krauthammer', 'Daniel Kahneman',\n",
       "       'Jay Asher', 'Jon Meacham', 'Greg Mortenson', 'Thug Kitchen',\n",
       "       'Tina Fey', 'Robert Jordan', 'Edward M. Kennedy',\n",
       "       'Laura Hillenbrand', 'Silly Bear', 'Alan Moore', 'Sara Gruen',\n",
       "       'Hillary Rodham Clinton', 'Randall Munroe', 'Adir Levy',\n",
       "       'Heidi Murkoff', 'William Davis', 'Paul Kalanithi', 'Delia Owens',\n",
       "       'Maurice Sendak', 'The Staff of The Late Show with\\x85',\n",
       "       'Cheryl Strayed', 'Ken Follett', 'Geneen Roth', 'R. J. Palacio',\n",
       "       'Jen Sincero'], dtype=object)"
      ]
     },
     "execution_count": 46,
     "metadata": {},
     "output_type": "execute_result"
    }
   ],
   "source": [
    "pd.Series(df['Author']).unique()"
   ]
  },
  {
   "cell_type": "markdown",
   "metadata": {},
   "source": [
    "Find the average price"
   ]
  },
  {
   "cell_type": "code",
   "execution_count": 47,
   "metadata": {},
   "outputs": [
    {
     "data": {
      "text/plain": [
       "np.float64(13.1)"
      ]
     },
     "execution_count": 47,
     "metadata": {},
     "output_type": "execute_result"
    }
   ],
   "source": [
    "pd.Series(df['Price']).mean()"
   ]
  },
  {
   "cell_type": "markdown",
   "metadata": {},
   "source": [
    "Find the 10 highest prices"
   ]
  },
  {
   "cell_type": "code",
   "execution_count": 51,
   "metadata": {},
   "outputs": [
    {
     "data": {
      "text/plain": [
       "69     105\n",
       "70     105\n",
       "473     82\n",
       "151     54\n",
       "346     53\n",
       "159     52\n",
       "271     46\n",
       "272     46\n",
       "273     46\n",
       "274     46\n",
       "Name: Price, dtype: int64"
      ]
     },
     "execution_count": 51,
     "metadata": {},
     "output_type": "execute_result"
    }
   ],
   "source": [
    "pd.Series(df['Price']).nlargest(10)"
   ]
  },
  {
   "cell_type": "markdown",
   "metadata": {},
   "source": [
    "Find the top 3 most common book titles in the data."
   ]
  },
  {
   "cell_type": "code",
   "execution_count": 55,
   "metadata": {},
   "outputs": [
    {
     "data": {
      "text/plain": [
       "Name\n",
       "Publication Manual of the American Psychological Association, 6th Edition    10\n",
       "StrengthsFinder 2.0                                                           9\n",
       "Oh, the Places You'll Go!                                                     8\n",
       "Name: count, dtype: int64"
      ]
     },
     "execution_count": 55,
     "metadata": {},
     "output_type": "execute_result"
    }
   ],
   "source": [
    "pd.Series(df['Name']).value_counts().head(3)"
   ]
  },
  {
   "cell_type": "markdown",
   "metadata": {},
   "source": [
    "Create a new dataframe with only author and user review"
   ]
  },
  {
   "cell_type": "code",
   "execution_count": 63,
   "metadata": {},
   "outputs": [
    {
     "data": {
      "text/html": [
       "<div>\n",
       "<style scoped>\n",
       "    .dataframe tbody tr th:only-of-type {\n",
       "        vertical-align: middle;\n",
       "    }\n",
       "\n",
       "    .dataframe tbody tr th {\n",
       "        vertical-align: top;\n",
       "    }\n",
       "\n",
       "    .dataframe thead th {\n",
       "        text-align: right;\n",
       "    }\n",
       "</style>\n",
       "<table border=\"1\" class=\"dataframe\">\n",
       "  <thead>\n",
       "    <tr style=\"text-align: right;\">\n",
       "      <th></th>\n",
       "      <th>Author</th>\n",
       "      <th>Reviews</th>\n",
       "    </tr>\n",
       "  </thead>\n",
       "  <tbody>\n",
       "    <tr>\n",
       "      <th>0</th>\n",
       "      <td>JJ Smith</td>\n",
       "      <td>17350</td>\n",
       "    </tr>\n",
       "    <tr>\n",
       "      <th>1</th>\n",
       "      <td>Stephen King</td>\n",
       "      <td>2052</td>\n",
       "    </tr>\n",
       "    <tr>\n",
       "      <th>2</th>\n",
       "      <td>Jordan B. Peterson</td>\n",
       "      <td>18979</td>\n",
       "    </tr>\n",
       "    <tr>\n",
       "      <th>3</th>\n",
       "      <td>George Orwell</td>\n",
       "      <td>21424</td>\n",
       "    </tr>\n",
       "    <tr>\n",
       "      <th>4</th>\n",
       "      <td>National Geographic Kids</td>\n",
       "      <td>7665</td>\n",
       "    </tr>\n",
       "  </tbody>\n",
       "</table>\n",
       "</div>"
      ],
      "text/plain": [
       "                     Author  Reviews\n",
       "0                  JJ Smith    17350\n",
       "1              Stephen King     2052\n",
       "2        Jordan B. Peterson    18979\n",
       "3             George Orwell    21424\n",
       "4  National Geographic Kids     7665"
      ]
     },
     "execution_count": 63,
     "metadata": {},
     "output_type": "execute_result"
    }
   ],
   "source": [
    "df_new=df[['Author','Reviews']]\n",
    "df_new.head()"
   ]
  },
  {
   "cell_type": "markdown",
   "metadata": {},
   "source": [
    "Using the above dataframe , find the most common combination of Author and user review score.\n"
   ]
  },
  {
   "cell_type": "code",
   "execution_count": 67,
   "metadata": {},
   "outputs": [
    {
     "data": {
      "text/plain": [
       "Author                              Reviews\n",
       "American Psychological Association  8580       10\n",
       "Gallup                              5069        9\n",
       "Dr. Seuss                           21834       8\n",
       "Eric Carle                          19546       7\n",
       "Sarah Young                         19576       6\n",
       "                                               ..\n",
       "Ina Garten                          615         1\n",
       "Ian K. Smith M.D.                   2272        1\n",
       "Howard Stern                        5272        1\n",
       "Hopscotch Girls                     9737        1\n",
       "Zhi Gang Sha                        220         1\n",
       "Name: count, Length: 349, dtype: int64"
      ]
     },
     "execution_count": 67,
     "metadata": {},
     "output_type": "execute_result"
    }
   ],
   "source": [
    "pd.Series(df_new.value_counts())"
   ]
  },
  {
   "cell_type": "markdown",
   "metadata": {},
   "source": [
    "Find the books Written by Pete Souza"
   ]
  },
  {
   "cell_type": "code",
   "execution_count": 71,
   "metadata": {},
   "outputs": [
    {
     "data": {
      "text/html": [
       "<div>\n",
       "<style scoped>\n",
       "    .dataframe tbody tr th:only-of-type {\n",
       "        vertical-align: middle;\n",
       "    }\n",
       "\n",
       "    .dataframe tbody tr th {\n",
       "        vertical-align: top;\n",
       "    }\n",
       "\n",
       "    .dataframe thead th {\n",
       "        text-align: right;\n",
       "    }\n",
       "</style>\n",
       "<table border=\"1\" class=\"dataframe\">\n",
       "  <thead>\n",
       "    <tr style=\"text-align: right;\">\n",
       "      <th></th>\n",
       "      <th>Name</th>\n",
       "      <th>Author</th>\n",
       "      <th>User Rating</th>\n",
       "      <th>Reviews</th>\n",
       "      <th>Price</th>\n",
       "      <th>Year</th>\n",
       "      <th>Genre</th>\n",
       "    </tr>\n",
       "  </thead>\n",
       "  <tbody>\n",
       "    <tr>\n",
       "      <th>244</th>\n",
       "      <td>Obama: An Intimate Portrait</td>\n",
       "      <td>Pete Souza</td>\n",
       "      <td>4.9</td>\n",
       "      <td>3192</td>\n",
       "      <td>22</td>\n",
       "      <td>2017</td>\n",
       "      <td>Non Fiction</td>\n",
       "    </tr>\n",
       "  </tbody>\n",
       "</table>\n",
       "</div>"
      ],
      "text/plain": [
       "                            Name      Author  User Rating  Reviews  Price  \\\n",
       "244  Obama: An Intimate Portrait  Pete Souza          4.9     3192     22   \n",
       "\n",
       "     Year        Genre  \n",
       "244  2017  Non Fiction  "
      ]
     },
     "execution_count": 71,
     "metadata": {},
     "output_type": "execute_result"
    }
   ],
   "source": [
    "df[df[\"Author\"]==\"Pete Souza\"]"
   ]
  },
  {
   "cell_type": "markdown",
   "metadata": {},
   "source": [
    "Find the books that are under 10 dollars"
   ]
  },
  {
   "cell_type": "code",
   "execution_count": 72,
   "metadata": {},
   "outputs": [
    {
     "data": {
      "text/html": [
       "<div>\n",
       "<style scoped>\n",
       "    .dataframe tbody tr th:only-of-type {\n",
       "        vertical-align: middle;\n",
       "    }\n",
       "\n",
       "    .dataframe tbody tr th {\n",
       "        vertical-align: top;\n",
       "    }\n",
       "\n",
       "    .dataframe thead th {\n",
       "        text-align: right;\n",
       "    }\n",
       "</style>\n",
       "<table border=\"1\" class=\"dataframe\">\n",
       "  <thead>\n",
       "    <tr style=\"text-align: right;\">\n",
       "      <th></th>\n",
       "      <th>Name</th>\n",
       "      <th>Author</th>\n",
       "      <th>User Rating</th>\n",
       "      <th>Reviews</th>\n",
       "      <th>Price</th>\n",
       "      <th>Year</th>\n",
       "      <th>Genre</th>\n",
       "    </tr>\n",
       "  </thead>\n",
       "  <tbody>\n",
       "    <tr>\n",
       "      <th>0</th>\n",
       "      <td>10-Day Green Smoothie Cleanse</td>\n",
       "      <td>JJ Smith</td>\n",
       "      <td>4.7</td>\n",
       "      <td>17350</td>\n",
       "      <td>8</td>\n",
       "      <td>2016</td>\n",
       "      <td>Non Fiction</td>\n",
       "    </tr>\n",
       "    <tr>\n",
       "      <th>3</th>\n",
       "      <td>1984 (Signet Classics)</td>\n",
       "      <td>George Orwell</td>\n",
       "      <td>4.7</td>\n",
       "      <td>21424</td>\n",
       "      <td>6</td>\n",
       "      <td>2017</td>\n",
       "      <td>Fiction</td>\n",
       "    </tr>\n",
       "    <tr>\n",
       "      <th>8</th>\n",
       "      <td>A Higher Loyalty: Truth, Lies, and Leadership</td>\n",
       "      <td>James Comey</td>\n",
       "      <td>4.7</td>\n",
       "      <td>5983</td>\n",
       "      <td>3</td>\n",
       "      <td>2018</td>\n",
       "      <td>Non Fiction</td>\n",
       "    </tr>\n",
       "    <tr>\n",
       "      <th>9</th>\n",
       "      <td>A Man Called Ove: A Novel</td>\n",
       "      <td>Fredrik Backman</td>\n",
       "      <td>4.6</td>\n",
       "      <td>23848</td>\n",
       "      <td>8</td>\n",
       "      <td>2016</td>\n",
       "      <td>Fiction</td>\n",
       "    </tr>\n",
       "    <tr>\n",
       "      <th>10</th>\n",
       "      <td>A Man Called Ove: A Novel</td>\n",
       "      <td>Fredrik Backman</td>\n",
       "      <td>4.6</td>\n",
       "      <td>23848</td>\n",
       "      <td>8</td>\n",
       "      <td>2017</td>\n",
       "      <td>Fiction</td>\n",
       "    </tr>\n",
       "    <tr>\n",
       "      <th>...</th>\n",
       "      <td>...</td>\n",
       "      <td>...</td>\n",
       "      <td>...</td>\n",
       "      <td>...</td>\n",
       "      <td>...</td>\n",
       "      <td>...</td>\n",
       "      <td>...</td>\n",
       "    </tr>\n",
       "    <tr>\n",
       "      <th>545</th>\n",
       "      <td>Wrecking Ball (Diary of a Wimpy Kid Book 14)</td>\n",
       "      <td>Jeff Kinney</td>\n",
       "      <td>4.9</td>\n",
       "      <td>9413</td>\n",
       "      <td>8</td>\n",
       "      <td>2019</td>\n",
       "      <td>Fiction</td>\n",
       "    </tr>\n",
       "    <tr>\n",
       "      <th>546</th>\n",
       "      <td>You Are a Badass: How to Stop Doubting Your Gr...</td>\n",
       "      <td>Jen Sincero</td>\n",
       "      <td>4.7</td>\n",
       "      <td>14331</td>\n",
       "      <td>8</td>\n",
       "      <td>2016</td>\n",
       "      <td>Non Fiction</td>\n",
       "    </tr>\n",
       "    <tr>\n",
       "      <th>547</th>\n",
       "      <td>You Are a Badass: How to Stop Doubting Your Gr...</td>\n",
       "      <td>Jen Sincero</td>\n",
       "      <td>4.7</td>\n",
       "      <td>14331</td>\n",
       "      <td>8</td>\n",
       "      <td>2017</td>\n",
       "      <td>Non Fiction</td>\n",
       "    </tr>\n",
       "    <tr>\n",
       "      <th>548</th>\n",
       "      <td>You Are a Badass: How to Stop Doubting Your Gr...</td>\n",
       "      <td>Jen Sincero</td>\n",
       "      <td>4.7</td>\n",
       "      <td>14331</td>\n",
       "      <td>8</td>\n",
       "      <td>2018</td>\n",
       "      <td>Non Fiction</td>\n",
       "    </tr>\n",
       "    <tr>\n",
       "      <th>549</th>\n",
       "      <td>You Are a Badass: How to Stop Doubting Your Gr...</td>\n",
       "      <td>Jen Sincero</td>\n",
       "      <td>4.7</td>\n",
       "      <td>14331</td>\n",
       "      <td>8</td>\n",
       "      <td>2019</td>\n",
       "      <td>Non Fiction</td>\n",
       "    </tr>\n",
       "  </tbody>\n",
       "</table>\n",
       "<p>238 rows × 7 columns</p>\n",
       "</div>"
      ],
      "text/plain": [
       "                                                  Name           Author  \\\n",
       "0                        10-Day Green Smoothie Cleanse         JJ Smith   \n",
       "3                               1984 (Signet Classics)    George Orwell   \n",
       "8        A Higher Loyalty: Truth, Lies, and Leadership      James Comey   \n",
       "9                            A Man Called Ove: A Novel  Fredrik Backman   \n",
       "10                           A Man Called Ove: A Novel  Fredrik Backman   \n",
       "..                                                 ...              ...   \n",
       "545       Wrecking Ball (Diary of a Wimpy Kid Book 14)      Jeff Kinney   \n",
       "546  You Are a Badass: How to Stop Doubting Your Gr...      Jen Sincero   \n",
       "547  You Are a Badass: How to Stop Doubting Your Gr...      Jen Sincero   \n",
       "548  You Are a Badass: How to Stop Doubting Your Gr...      Jen Sincero   \n",
       "549  You Are a Badass: How to Stop Doubting Your Gr...      Jen Sincero   \n",
       "\n",
       "     User Rating  Reviews  Price  Year        Genre  \n",
       "0            4.7    17350      8  2016  Non Fiction  \n",
       "3            4.7    21424      6  2017      Fiction  \n",
       "8            4.7     5983      3  2018  Non Fiction  \n",
       "9            4.6    23848      8  2016      Fiction  \n",
       "10           4.6    23848      8  2017      Fiction  \n",
       "..           ...      ...    ...   ...          ...  \n",
       "545          4.9     9413      8  2019      Fiction  \n",
       "546          4.7    14331      8  2016  Non Fiction  \n",
       "547          4.7    14331      8  2017  Non Fiction  \n",
       "548          4.7    14331      8  2018  Non Fiction  \n",
       "549          4.7    14331      8  2019  Non Fiction  \n",
       "\n",
       "[238 rows x 7 columns]"
      ]
     },
     "execution_count": 72,
     "metadata": {},
     "output_type": "execute_result"
    }
   ],
   "source": [
    "df[df[\"Price\"]<10]"
   ]
  },
  {
   "cell_type": "markdown",
   "metadata": {},
   "source": [
    "Find the books that have a price between 50 and 60 dollars"
   ]
  },
  {
   "cell_type": "code",
   "execution_count": 77,
   "metadata": {},
   "outputs": [
    {
     "data": {
      "text/html": [
       "<div>\n",
       "<style scoped>\n",
       "    .dataframe tbody tr th:only-of-type {\n",
       "        vertical-align: middle;\n",
       "    }\n",
       "\n",
       "    .dataframe tbody tr th {\n",
       "        vertical-align: top;\n",
       "    }\n",
       "\n",
       "    .dataframe thead th {\n",
       "        text-align: right;\n",
       "    }\n",
       "</style>\n",
       "<table border=\"1\" class=\"dataframe\">\n",
       "  <thead>\n",
       "    <tr style=\"text-align: right;\">\n",
       "      <th></th>\n",
       "      <th>Name</th>\n",
       "      <th>Author</th>\n",
       "      <th>User Rating</th>\n",
       "      <th>Reviews</th>\n",
       "      <th>Price</th>\n",
       "      <th>Year</th>\n",
       "      <th>Genre</th>\n",
       "    </tr>\n",
       "  </thead>\n",
       "  <tbody>\n",
       "    <tr>\n",
       "      <th>151</th>\n",
       "      <td>Hamilton: The Revolution</td>\n",
       "      <td>Lin-Manuel Miranda</td>\n",
       "      <td>4.9</td>\n",
       "      <td>5867</td>\n",
       "      <td>54</td>\n",
       "      <td>2016</td>\n",
       "      <td>Non Fiction</td>\n",
       "    </tr>\n",
       "    <tr>\n",
       "      <th>159</th>\n",
       "      <td>Harry Potter Paperback Box Set (Books 1-7)</td>\n",
       "      <td>J. K. Rowling</td>\n",
       "      <td>4.8</td>\n",
       "      <td>13471</td>\n",
       "      <td>52</td>\n",
       "      <td>2016</td>\n",
       "      <td>Fiction</td>\n",
       "    </tr>\n",
       "    <tr>\n",
       "      <th>346</th>\n",
       "      <td>The Book of Basketball: The NBA According to T...</td>\n",
       "      <td>Bill Simmons</td>\n",
       "      <td>4.7</td>\n",
       "      <td>858</td>\n",
       "      <td>53</td>\n",
       "      <td>2009</td>\n",
       "      <td>Non Fiction</td>\n",
       "    </tr>\n",
       "  </tbody>\n",
       "</table>\n",
       "</div>"
      ],
      "text/plain": [
       "                                                  Name              Author  \\\n",
       "151                           Hamilton: The Revolution  Lin-Manuel Miranda   \n",
       "159         Harry Potter Paperback Box Set (Books 1-7)       J. K. Rowling   \n",
       "346  The Book of Basketball: The NBA According to T...        Bill Simmons   \n",
       "\n",
       "     User Rating  Reviews  Price  Year        Genre  \n",
       "151          4.9     5867     54  2016  Non Fiction  \n",
       "159          4.8    13471     52  2016      Fiction  \n",
       "346          4.7      858     53  2009  Non Fiction  "
      ]
     },
     "execution_count": 77,
     "metadata": {},
     "output_type": "execute_result"
    }
   ],
   "source": [
    "df[df[\"Price\"].between(50,60)]"
   ]
  },
  {
   "cell_type": "markdown",
   "metadata": {},
   "source": [
    "Find the books written by Kristen Hannah, Andy Weir or Delia owens"
   ]
  },
  {
   "cell_type": "code",
   "execution_count": 80,
   "metadata": {},
   "outputs": [
    {
     "data": {
      "text/html": [
       "<div>\n",
       "<style scoped>\n",
       "    .dataframe tbody tr th:only-of-type {\n",
       "        vertical-align: middle;\n",
       "    }\n",
       "\n",
       "    .dataframe tbody tr th {\n",
       "        vertical-align: top;\n",
       "    }\n",
       "\n",
       "    .dataframe thead th {\n",
       "        text-align: right;\n",
       "    }\n",
       "</style>\n",
       "<table border=\"1\" class=\"dataframe\">\n",
       "  <thead>\n",
       "    <tr style=\"text-align: right;\">\n",
       "      <th></th>\n",
       "      <th>Name</th>\n",
       "      <th>Author</th>\n",
       "      <th>User Rating</th>\n",
       "      <th>Reviews</th>\n",
       "      <th>Price</th>\n",
       "      <th>Year</th>\n",
       "      <th>Genre</th>\n",
       "    </tr>\n",
       "  </thead>\n",
       "  <tbody>\n",
       "    <tr>\n",
       "      <th>433</th>\n",
       "      <td>The Martian</td>\n",
       "      <td>Andy Weir</td>\n",
       "      <td>4.7</td>\n",
       "      <td>39459</td>\n",
       "      <td>9</td>\n",
       "      <td>2015</td>\n",
       "      <td>Fiction</td>\n",
       "    </tr>\n",
       "    <tr>\n",
       "      <th>534</th>\n",
       "      <td>Where the Crawdads Sing</td>\n",
       "      <td>Delia Owens</td>\n",
       "      <td>4.8</td>\n",
       "      <td>87841</td>\n",
       "      <td>15</td>\n",
       "      <td>2019</td>\n",
       "      <td>Fiction</td>\n",
       "    </tr>\n",
       "  </tbody>\n",
       "</table>\n",
       "</div>"
      ],
      "text/plain": [
       "                        Name       Author  User Rating  Reviews  Price  Year  \\\n",
       "433              The Martian    Andy Weir          4.7    39459      9  2015   \n",
       "534  Where the Crawdads Sing  Delia Owens          4.8    87841     15  2019   \n",
       "\n",
       "       Genre  \n",
       "433  Fiction  \n",
       "534  Fiction  "
      ]
     },
     "execution_count": 80,
     "metadata": {},
     "output_type": "execute_result"
    }
   ],
   "source": [
    "written_by=['Kristen Hannah','Andy Weir','Delia Owens']\n",
    "df[df['Author'].isin(written_by)]"
   ]
  },
  {
   "cell_type": "markdown",
   "metadata": {},
   "source": [
    "Find the non-fiction books that are rated 4.9"
   ]
  },
  {
   "cell_type": "code",
   "execution_count": 82,
   "metadata": {},
   "outputs": [
    {
     "data": {
      "text/html": [
       "<div>\n",
       "<style scoped>\n",
       "    .dataframe tbody tr th:only-of-type {\n",
       "        vertical-align: middle;\n",
       "    }\n",
       "\n",
       "    .dataframe tbody tr th {\n",
       "        vertical-align: top;\n",
       "    }\n",
       "\n",
       "    .dataframe thead th {\n",
       "        text-align: right;\n",
       "    }\n",
       "</style>\n",
       "<table border=\"1\" class=\"dataframe\">\n",
       "  <thead>\n",
       "    <tr style=\"text-align: right;\">\n",
       "      <th></th>\n",
       "      <th>Name</th>\n",
       "      <th>Author</th>\n",
       "      <th>User Rating</th>\n",
       "      <th>Reviews</th>\n",
       "      <th>Price</th>\n",
       "      <th>Year</th>\n",
       "      <th>Genre</th>\n",
       "    </tr>\n",
       "  </thead>\n",
       "  <tbody>\n",
       "    <tr>\n",
       "      <th>151</th>\n",
       "      <td>Hamilton: The Revolution</td>\n",
       "      <td>Lin-Manuel Miranda</td>\n",
       "      <td>4.9</td>\n",
       "      <td>5867</td>\n",
       "      <td>54</td>\n",
       "      <td>2016</td>\n",
       "      <td>Non Fiction</td>\n",
       "    </tr>\n",
       "    <tr>\n",
       "      <th>174</th>\n",
       "      <td>Humans of New York : Stories</td>\n",
       "      <td>Brandon Stanton</td>\n",
       "      <td>4.9</td>\n",
       "      <td>2812</td>\n",
       "      <td>17</td>\n",
       "      <td>2015</td>\n",
       "      <td>Non Fiction</td>\n",
       "    </tr>\n",
       "    <tr>\n",
       "      <th>187</th>\n",
       "      <td>Jesus Calling: Enjoying Peace in His Presence ...</td>\n",
       "      <td>Sarah Young</td>\n",
       "      <td>4.9</td>\n",
       "      <td>19576</td>\n",
       "      <td>8</td>\n",
       "      <td>2011</td>\n",
       "      <td>Non Fiction</td>\n",
       "    </tr>\n",
       "    <tr>\n",
       "      <th>188</th>\n",
       "      <td>Jesus Calling: Enjoying Peace in His Presence ...</td>\n",
       "      <td>Sarah Young</td>\n",
       "      <td>4.9</td>\n",
       "      <td>19576</td>\n",
       "      <td>8</td>\n",
       "      <td>2012</td>\n",
       "      <td>Non Fiction</td>\n",
       "    </tr>\n",
       "    <tr>\n",
       "      <th>189</th>\n",
       "      <td>Jesus Calling: Enjoying Peace in His Presence ...</td>\n",
       "      <td>Sarah Young</td>\n",
       "      <td>4.9</td>\n",
       "      <td>19576</td>\n",
       "      <td>8</td>\n",
       "      <td>2013</td>\n",
       "      <td>Non Fiction</td>\n",
       "    </tr>\n",
       "    <tr>\n",
       "      <th>190</th>\n",
       "      <td>Jesus Calling: Enjoying Peace in His Presence ...</td>\n",
       "      <td>Sarah Young</td>\n",
       "      <td>4.9</td>\n",
       "      <td>19576</td>\n",
       "      <td>8</td>\n",
       "      <td>2014</td>\n",
       "      <td>Non Fiction</td>\n",
       "    </tr>\n",
       "    <tr>\n",
       "      <th>191</th>\n",
       "      <td>Jesus Calling: Enjoying Peace in His Presence ...</td>\n",
       "      <td>Sarah Young</td>\n",
       "      <td>4.9</td>\n",
       "      <td>19576</td>\n",
       "      <td>8</td>\n",
       "      <td>2015</td>\n",
       "      <td>Non Fiction</td>\n",
       "    </tr>\n",
       "    <tr>\n",
       "      <th>192</th>\n",
       "      <td>Jesus Calling: Enjoying Peace in His Presence ...</td>\n",
       "      <td>Sarah Young</td>\n",
       "      <td>4.9</td>\n",
       "      <td>19576</td>\n",
       "      <td>8</td>\n",
       "      <td>2016</td>\n",
       "      <td>Non Fiction</td>\n",
       "    </tr>\n",
       "    <tr>\n",
       "      <th>244</th>\n",
       "      <td>Obama: An Intimate Portrait</td>\n",
       "      <td>Pete Souza</td>\n",
       "      <td>4.9</td>\n",
       "      <td>3192</td>\n",
       "      <td>22</td>\n",
       "      <td>2017</td>\n",
       "      <td>Non Fiction</td>\n",
       "    </tr>\n",
       "    <tr>\n",
       "      <th>431</th>\n",
       "      <td>The Magnolia Story</td>\n",
       "      <td>Chip Gaines</td>\n",
       "      <td>4.9</td>\n",
       "      <td>7861</td>\n",
       "      <td>5</td>\n",
       "      <td>2016</td>\n",
       "      <td>Non Fiction</td>\n",
       "    </tr>\n",
       "    <tr>\n",
       "      <th>521</th>\n",
       "      <td>Unfreedom of the Press</td>\n",
       "      <td>Mark R. Levin</td>\n",
       "      <td>4.9</td>\n",
       "      <td>5956</td>\n",
       "      <td>11</td>\n",
       "      <td>2019</td>\n",
       "      <td>Non Fiction</td>\n",
       "    </tr>\n",
       "  </tbody>\n",
       "</table>\n",
       "</div>"
      ],
      "text/plain": [
       "                                                  Name              Author  \\\n",
       "151                           Hamilton: The Revolution  Lin-Manuel Miranda   \n",
       "174                       Humans of New York : Stories     Brandon Stanton   \n",
       "187  Jesus Calling: Enjoying Peace in His Presence ...         Sarah Young   \n",
       "188  Jesus Calling: Enjoying Peace in His Presence ...         Sarah Young   \n",
       "189  Jesus Calling: Enjoying Peace in His Presence ...         Sarah Young   \n",
       "190  Jesus Calling: Enjoying Peace in His Presence ...         Sarah Young   \n",
       "191  Jesus Calling: Enjoying Peace in His Presence ...         Sarah Young   \n",
       "192  Jesus Calling: Enjoying Peace in His Presence ...         Sarah Young   \n",
       "244                        Obama: An Intimate Portrait          Pete Souza   \n",
       "431                                 The Magnolia Story         Chip Gaines   \n",
       "521                             Unfreedom of the Press       Mark R. Levin   \n",
       "\n",
       "     User Rating  Reviews  Price  Year        Genre  \n",
       "151          4.9     5867     54  2016  Non Fiction  \n",
       "174          4.9     2812     17  2015  Non Fiction  \n",
       "187          4.9    19576      8  2011  Non Fiction  \n",
       "188          4.9    19576      8  2012  Non Fiction  \n",
       "189          4.9    19576      8  2013  Non Fiction  \n",
       "190          4.9    19576      8  2014  Non Fiction  \n",
       "191          4.9    19576      8  2015  Non Fiction  \n",
       "192          4.9    19576      8  2016  Non Fiction  \n",
       "244          4.9     3192     22  2017  Non Fiction  \n",
       "431          4.9     7861      5  2016  Non Fiction  \n",
       "521          4.9     5956     11  2019  Non Fiction  "
      ]
     },
     "execution_count": 82,
     "metadata": {},
     "output_type": "execute_result"
    }
   ],
   "source": [
    "df[(df['Genre']=='Non Fiction') & (df['User Rating']==4.9)]"
   ]
  },
  {
   "cell_type": "markdown",
   "metadata": {},
   "source": [
    "Find the fiction book with lowest user rating"
   ]
  },
  {
   "cell_type": "code",
   "execution_count": 87,
   "metadata": {},
   "outputs": [
    {
     "data": {
      "text/html": [
       "<div>\n",
       "<style scoped>\n",
       "    .dataframe tbody tr th:only-of-type {\n",
       "        vertical-align: middle;\n",
       "    }\n",
       "\n",
       "    .dataframe tbody tr th {\n",
       "        vertical-align: top;\n",
       "    }\n",
       "\n",
       "    .dataframe thead th {\n",
       "        text-align: right;\n",
       "    }\n",
       "</style>\n",
       "<table border=\"1\" class=\"dataframe\">\n",
       "  <thead>\n",
       "    <tr style=\"text-align: right;\">\n",
       "      <th></th>\n",
       "      <th>Name</th>\n",
       "      <th>Author</th>\n",
       "      <th>User Rating</th>\n",
       "      <th>Reviews</th>\n",
       "      <th>Price</th>\n",
       "      <th>Year</th>\n",
       "      <th>Genre</th>\n",
       "    </tr>\n",
       "  </thead>\n",
       "  <tbody>\n",
       "    <tr>\n",
       "      <th>353</th>\n",
       "      <td>The Casual Vacancy</td>\n",
       "      <td>J.K. Rowling</td>\n",
       "      <td>3.3</td>\n",
       "      <td>9372</td>\n",
       "      <td>12</td>\n",
       "      <td>2012</td>\n",
       "      <td>Fiction</td>\n",
       "    </tr>\n",
       "  </tbody>\n",
       "</table>\n",
       "</div>"
      ],
      "text/plain": [
       "                   Name        Author  User Rating  Reviews  Price  Year  \\\n",
       "353  The Casual Vacancy  J.K. Rowling          3.3     9372     12  2012   \n",
       "\n",
       "       Genre  \n",
       "353  Fiction  "
      ]
     },
     "execution_count": 87,
     "metadata": {},
     "output_type": "execute_result"
    }
   ],
   "source": [
    "df[df['Genre'] == 'Fiction'].sort_values(by='User Rating', ascending=True).head(1)"
   ]
  },
  {
   "cell_type": "markdown",
   "metadata": {},
   "source": [
    "Create a bar-plot for the no of authors with the most books under 4.9 rating"
   ]
  },
  {
   "cell_type": "code",
   "execution_count": 89,
   "metadata": {},
   "outputs": [
    {
     "data": {
      "text/plain": [
       "<Axes: xlabel='Author'>"
      ]
     },
     "execution_count": 89,
     "metadata": {},
     "output_type": "execute_result"
    },
    {
     "name": "stderr",
     "output_type": "stream",
     "text": [
      "/opt/homebrew/lib/python3.13/site-packages/IPython/core/events.py:82: UserWarning: Glyph 133 (\\x85) missing from font(s) DejaVu Sans.\n",
      "  func(*args, **kwargs)\n",
      "/opt/homebrew/lib/python3.13/site-packages/IPython/core/pylabtools.py:170: UserWarning: Glyph 133 (\\x85) missing from font(s) DejaVu Sans.\n",
      "  fig.canvas.print_figure(bytes_io, **kw)\n"
     ]
    },
    {
     "data": {
      "image/png": "[encoded data removed]",
      "text/plain": [
       "<Figure size 640x480 with 1 Axes>"
      ]
     },
     "metadata": {},
     "output_type": "display_data"
    }
   ],
   "source": [
    "df[df['User Rating']< 4.9]['Author'].value_counts().plot(kind='bar')"
   ]
  }
 ],
 "metadata": {
  "kernelspec": {
   "display_name": "Python 3",
   "language": "python",
   "name": "python3"
  },
  "language_info": {
   "codemirror_mode": {
    "name": "ipython",
    "version": 3
   },
   "file_extension": ".py",
   "mimetype": "text/x-python",
   "name": "python",
   "nbconvert_exporter": "python",
   "pygments_lexer": "ipython3",
   "version": "3.13.2"
  }
 },
 "nbformat": 4,
 "nbformat_minor": 2
}
